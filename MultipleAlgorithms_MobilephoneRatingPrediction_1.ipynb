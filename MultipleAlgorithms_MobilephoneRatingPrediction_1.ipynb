{
  "nbformat": 4,
  "nbformat_minor": 0,
  "metadata": {
    "colab": {
      "name": "MultipleAlgorithms_MobilephoneRatingPrediction_1.ipynb",
      "provenance": [],
      "collapsed_sections": []
    },
    "kernelspec": {
      "name": "python3",
      "display_name": "Python 3"
    }
  },
  "cells": [
    {
      "cell_type": "markdown",
      "metadata": {
        "id": "d1ACdu9KIGoC",
        "colab_type": "text"
      },
      "source": [
        "# ***Importing Packages***"
      ]
    },
    {
      "cell_type": "code",
      "metadata": {
        "id": "EkmF43DsYsrZ",
        "colab_type": "code",
        "colab": {}
      },
      "source": [
        "from sklearn import model_selection, preprocessing, linear_model, naive_bayes, metrics, svm, ensemble\n",
        "from sklearn.feature_extraction.text import TfidfVectorizer, CountVectorizer\n",
        "from sklearn import decomposition, ensemble\n",
        "from sklearn.multiclass import OneVsRestClassifier\n",
        "from sklearn.preprocessing import MaxAbsScaler\n",
        "import pandas as pd, xgboost, numpy, textblob, string, random"
      ],
      "execution_count": 0,
      "outputs": []
    },
    {
      "cell_type": "markdown",
      "metadata": {
        "id": "sS-xDD-xICRh",
        "colab_type": "text"
      },
      "source": [
        "# ***1. Dataset preparation***"
      ]
    },
    {
      "cell_type": "code",
      "metadata": {
        "id": "-wy6-TXhYxf5",
        "colab_type": "code",
        "outputId": "c7477562-58be-448d-cbbe-e6458dcc6933",
        "colab": {
          "base_uri": "https://localhost:8080/",
          "height": 864
        }
      },
      "source": [
        "# LOADING THE DATASET AND SEEING THE DETAILS\n",
        "data_df_train = pd.read_csv('Amazon_Unlocked_Mobile.csv', encoding = 'unicode_escape',header=0)\n",
        "data_df_test = pd.read_csv('Review.csv', encoding = 'unicode_escape',header=0)\n",
        "# SHAPE OF THE DATASET\n",
        "print(\"Shape of the dataset:\")\n",
        "print(data_df_train.shape)\n",
        "# COLUMN NAMES\n",
        "print(\"Column names:\")\n",
        "print(data_df_train.columns)\n",
        "# DATATYPE OF EACH COLUMN\n",
        "print(\"Datatype of each column:\")\n",
        "print(data_df_train.dtypes)\n",
        "# SEEING FEW OF THE ENTRIES\n",
        "print(\"Few dataset entries:\")\n",
        "print(data_df_train.head())\n",
        "# DATASET SUMMARY\n",
        "data_df_train.describe(include='all')"
      ],
      "execution_count": 6,
      "outputs": [
        {
          "output_type": "stream",
          "text": [
            "Shape of the dataset:\n",
            "(413746, 9)\n",
            "Column names:\n",
            "Index(['Pd_id', 'User_id', 'Review_id', 'Product Name', 'Brand Name', 'Price',\n",
            "       'Rating', 'Reviews', 'Review Votes'],\n",
            "      dtype='object')\n",
            "Datatype of each column:\n",
            "Pd_id             int64\n",
            "User_id           int64\n",
            "Review_id         int64\n",
            "Product Name     object\n",
            "Brand Name       object\n",
            "Price           float64\n",
            "Rating            int64\n",
            "Reviews          object\n",
            "Review Votes    float64\n",
            "dtype: object\n",
            "Few dataset entries:\n",
            "    Pd_id  ...  Review Votes\n",
            "0  413841  ...           1.0\n",
            "1  413842  ...           0.0\n",
            "2  413843  ...           0.0\n",
            "3  413844  ...           0.0\n",
            "4  413845  ...           0.0\n",
            "\n",
            "[5 rows x 9 columns]\n"
          ],
          "name": "stdout"
        },
        {
          "output_type": "execute_result",
          "data": {
            "text/html": [
              "<div>\n",
              "<style scoped>\n",
              "    .dataframe tbody tr th:only-of-type {\n",
              "        vertical-align: middle;\n",
              "    }\n",
              "\n",
              "    .dataframe tbody tr th {\n",
              "        vertical-align: top;\n",
              "    }\n",
              "\n",
              "    .dataframe thead th {\n",
              "        text-align: right;\n",
              "    }\n",
              "</style>\n",
              "<table border=\"1\" class=\"dataframe\">\n",
              "  <thead>\n",
              "    <tr style=\"text-align: right;\">\n",
              "      <th></th>\n",
              "      <th>Pd_id</th>\n",
              "      <th>User_id</th>\n",
              "      <th>Review_id</th>\n",
              "      <th>Product Name</th>\n",
              "      <th>Brand Name</th>\n",
              "      <th>Price</th>\n",
              "      <th>Rating</th>\n",
              "      <th>Reviews</th>\n",
              "      <th>Review Votes</th>\n",
              "    </tr>\n",
              "  </thead>\n",
              "  <tbody>\n",
              "    <tr>\n",
              "      <th>count</th>\n",
              "      <td>413746.000000</td>\n",
              "      <td>413746.000000</td>\n",
              "      <td>413746.000000</td>\n",
              "      <td>413746</td>\n",
              "      <td>348590</td>\n",
              "      <td>407814.000000</td>\n",
              "      <td>413746.000000</td>\n",
              "      <td>413684</td>\n",
              "      <td>401451.000000</td>\n",
              "    </tr>\n",
              "    <tr>\n",
              "      <th>unique</th>\n",
              "      <td>NaN</td>\n",
              "      <td>NaN</td>\n",
              "      <td>NaN</td>\n",
              "      <td>4410</td>\n",
              "      <td>384</td>\n",
              "      <td>NaN</td>\n",
              "      <td>NaN</td>\n",
              "      <td>162483</td>\n",
              "      <td>NaN</td>\n",
              "    </tr>\n",
              "    <tr>\n",
              "      <th>top</th>\n",
              "      <td>NaN</td>\n",
              "      <td>NaN</td>\n",
              "      <td>NaN</td>\n",
              "      <td>Apple iPhone 4s 8GB Unlocked Smartphone w/ 8MP...</td>\n",
              "      <td>Samsung</td>\n",
              "      <td>NaN</td>\n",
              "      <td>NaN</td>\n",
              "      <td>Good</td>\n",
              "      <td>NaN</td>\n",
              "    </tr>\n",
              "    <tr>\n",
              "      <th>freq</th>\n",
              "      <td>NaN</td>\n",
              "      <td>NaN</td>\n",
              "      <td>NaN</td>\n",
              "      <td>1451</td>\n",
              "      <td>65730</td>\n",
              "      <td>NaN</td>\n",
              "      <td>NaN</td>\n",
              "      <td>2879</td>\n",
              "      <td>NaN</td>\n",
              "    </tr>\n",
              "    <tr>\n",
              "      <th>mean</th>\n",
              "      <td>206935.918750</td>\n",
              "      <td>206935.918750</td>\n",
              "      <td>206935.918750</td>\n",
              "      <td>NaN</td>\n",
              "      <td>NaN</td>\n",
              "      <td>226.868381</td>\n",
              "      <td>3.819331</td>\n",
              "      <td>NaN</td>\n",
              "      <td>1.507581</td>\n",
              "    </tr>\n",
              "    <tr>\n",
              "      <th>std</th>\n",
              "      <td>119464.473511</td>\n",
              "      <td>119464.473511</td>\n",
              "      <td>119464.473511</td>\n",
              "      <td>NaN</td>\n",
              "      <td>NaN</td>\n",
              "      <td>273.015107</td>\n",
              "      <td>1.548296</td>\n",
              "      <td>NaN</td>\n",
              "      <td>9.164886</td>\n",
              "    </tr>\n",
              "    <tr>\n",
              "      <th>min</th>\n",
              "      <td>16.000000</td>\n",
              "      <td>16.000000</td>\n",
              "      <td>16.000000</td>\n",
              "      <td>NaN</td>\n",
              "      <td>NaN</td>\n",
              "      <td>1.730000</td>\n",
              "      <td>1.000000</td>\n",
              "      <td>NaN</td>\n",
              "      <td>0.000000</td>\n",
              "    </tr>\n",
              "    <tr>\n",
              "      <th>25%</th>\n",
              "      <td>103483.250000</td>\n",
              "      <td>103483.250000</td>\n",
              "      <td>103483.250000</td>\n",
              "      <td>NaN</td>\n",
              "      <td>NaN</td>\n",
              "      <td>79.990000</td>\n",
              "      <td>3.000000</td>\n",
              "      <td>NaN</td>\n",
              "      <td>0.000000</td>\n",
              "    </tr>\n",
              "    <tr>\n",
              "      <th>50%</th>\n",
              "      <td>206927.500000</td>\n",
              "      <td>206927.500000</td>\n",
              "      <td>206927.500000</td>\n",
              "      <td>NaN</td>\n",
              "      <td>NaN</td>\n",
              "      <td>144.710000</td>\n",
              "      <td>5.000000</td>\n",
              "      <td>NaN</td>\n",
              "      <td>0.000000</td>\n",
              "    </tr>\n",
              "    <tr>\n",
              "      <th>75%</th>\n",
              "      <td>310395.750000</td>\n",
              "      <td>310395.750000</td>\n",
              "      <td>310395.750000</td>\n",
              "      <td>NaN</td>\n",
              "      <td>NaN</td>\n",
              "      <td>269.990000</td>\n",
              "      <td>5.000000</td>\n",
              "      <td>NaN</td>\n",
              "      <td>1.000000</td>\n",
              "    </tr>\n",
              "    <tr>\n",
              "      <th>max</th>\n",
              "      <td>413855.000000</td>\n",
              "      <td>413855.000000</td>\n",
              "      <td>413855.000000</td>\n",
              "      <td>NaN</td>\n",
              "      <td>NaN</td>\n",
              "      <td>2598.000000</td>\n",
              "      <td>5.000000</td>\n",
              "      <td>NaN</td>\n",
              "      <td>645.000000</td>\n",
              "    </tr>\n",
              "  </tbody>\n",
              "</table>\n",
              "</div>"
            ],
            "text/plain": [
              "                Pd_id        User_id  ...  Reviews   Review Votes\n",
              "count   413746.000000  413746.000000  ...   413684  401451.000000\n",
              "unique            NaN            NaN  ...   162483            NaN\n",
              "top               NaN            NaN  ...     Good            NaN\n",
              "freq              NaN            NaN  ...     2879            NaN\n",
              "mean    206935.918750  206935.918750  ...      NaN       1.507581\n",
              "std     119464.473511  119464.473511  ...      NaN       9.164886\n",
              "min         16.000000      16.000000  ...      NaN       0.000000\n",
              "25%     103483.250000  103483.250000  ...      NaN       0.000000\n",
              "50%     206927.500000  206927.500000  ...      NaN       0.000000\n",
              "75%     310395.750000  310395.750000  ...      NaN       1.000000\n",
              "max     413855.000000  413855.000000  ...      NaN     645.000000\n",
              "\n",
              "[11 rows x 9 columns]"
            ]
          },
          "metadata": {
            "tags": []
          },
          "execution_count": 6
        }
      ]
    },
    {
      "cell_type": "code",
      "metadata": {
        "id": "J5WmdZxrrqUs",
        "colab_type": "code",
        "outputId": "c2c3b326-5e15-4a46-f03f-9785eebb5f2e",
        "colab": {
          "base_uri": "https://localhost:8080/",
          "height": 105
        }
      },
      "source": [
        "# Checking if data set is balanced for all the ratings\n",
        "print('Total no. of training records for Rating 5:', len(data_df_train[(data_df_train['Rating']==5)]))\n",
        "print('Total no. of training records for Rating 4:',len(data_df_train[(data_df_train['Rating']==4)]))\n",
        "print('Total no. of training records for Rating 3:',len(data_df_train[(data_df_train['Rating']==3)]))\n",
        "print('Total no. of training records for Rating 2:',len(data_df_train[(data_df_train['Rating']==2)]))\n",
        "print('Total no. of training records for Rating 1:',len(data_df_train[(data_df_train['Rating']==1)]))"
      ],
      "execution_count": 7,
      "outputs": [
        {
          "output_type": "stream",
          "text": [
            "Total no. of training records for Rating 5: 223518\n",
            "Total no. of training records for Rating 4: 61387\n",
            "Total no. of training records for Rating 3: 31763\n",
            "Total no. of training records for Rating 2: 24728\n",
            "Total no. of training records for Rating 1: 72350\n"
          ],
          "name": "stdout"
        }
      ]
    },
    {
      "cell_type": "code",
      "metadata": {
        "id": "CTVp_rs9Y0Mc",
        "colab_type": "code",
        "colab": {}
      },
      "source": [
        "# Taking a copy of the train and test data set\n",
        "train_original = data_df_train.copy() \n",
        "test_original = data_df_test.copy()"
      ],
      "execution_count": 0,
      "outputs": []
    },
    {
      "cell_type": "code",
      "metadata": {
        "id": "kEuAiVyDY2my",
        "colab_type": "code",
        "outputId": "fb33b014-a3b2-479f-b04a-37b03be8da16",
        "colab": {
          "base_uri": "https://localhost:8080/",
          "height": 34
        }
      },
      "source": [
        "# Dropping rows with NA\n",
        "data_df_train = data_df_train.dropna(axis = 0, how ='any')\n",
        "print(data_df_train.shape)"
      ],
      "execution_count": 9,
      "outputs": [
        {
          "output_type": "stream",
          "text": [
            "(334257, 9)\n"
          ],
          "name": "stdout"
        }
      ]
    },
    {
      "cell_type": "code",
      "metadata": {
        "id": "XUF1_prSY4dC",
        "colab_type": "code",
        "outputId": "62d4e66f-1d29-42a0-e832-1b812352162b",
        "colab": {
          "base_uri": "https://localhost:8080/",
          "height": 491
        }
      },
      "source": [
        "# Viewing the test data(Reviews to be rated)\n",
        "test = pd.DataFrame(data_df_test, columns=['Reviews','Rating'])\n",
        "test"
      ],
      "execution_count": 10,
      "outputs": [
        {
          "output_type": "execute_result",
          "data": {
            "text/html": [
              "<div>\n",
              "<style scoped>\n",
              "    .dataframe tbody tr th:only-of-type {\n",
              "        vertical-align: middle;\n",
              "    }\n",
              "\n",
              "    .dataframe tbody tr th {\n",
              "        vertical-align: top;\n",
              "    }\n",
              "\n",
              "    .dataframe thead th {\n",
              "        text-align: right;\n",
              "    }\n",
              "</style>\n",
              "<table border=\"1\" class=\"dataframe\">\n",
              "  <thead>\n",
              "    <tr style=\"text-align: right;\">\n",
              "      <th></th>\n",
              "      <th>Reviews</th>\n",
              "      <th>Rating</th>\n",
              "    </tr>\n",
              "  </thead>\n",
              "  <tbody>\n",
              "    <tr>\n",
              "      <th>0</th>\n",
              "      <td>This is the best phone I've ever used. The cam...</td>\n",
              "      <td>NaN</td>\n",
              "    </tr>\n",
              "    <tr>\n",
              "      <th>1</th>\n",
              "      <td>Worth it's price. Better than the previous gen...</td>\n",
              "      <td>NaN</td>\n",
              "    </tr>\n",
              "    <tr>\n",
              "      <th>2</th>\n",
              "      <td>Great value for money. Good phone.</td>\n",
              "      <td>NaN</td>\n",
              "    </tr>\n",
              "    <tr>\n",
              "      <th>3</th>\n",
              "      <td>Worst phone. I did not like the phone. Google ...</td>\n",
              "      <td>NaN</td>\n",
              "    </tr>\n",
              "    <tr>\n",
              "      <th>4</th>\n",
              "      <td>Compared to Pixel XL seems to be good. The bat...</td>\n",
              "      <td>NaN</td>\n",
              "    </tr>\n",
              "    <tr>\n",
              "      <th>5</th>\n",
              "      <td>Not a good phone</td>\n",
              "      <td>NaN</td>\n",
              "    </tr>\n",
              "    <tr>\n",
              "      <th>6</th>\n",
              "      <td>Worst phone. Poor batery performance. The phon...</td>\n",
              "      <td>NaN</td>\n",
              "    </tr>\n",
              "    <tr>\n",
              "      <th>7</th>\n",
              "      <td>not good. Not bad</td>\n",
              "      <td>NaN</td>\n",
              "    </tr>\n",
              "    <tr>\n",
              "      <th>8</th>\n",
              "      <td>worst phone</td>\n",
              "      <td>NaN</td>\n",
              "    </tr>\n",
              "    <tr>\n",
              "      <th>9</th>\n",
              "      <td>I like it. Has been one week since I bought it...</td>\n",
              "      <td>NaN</td>\n",
              "    </tr>\n",
              "    <tr>\n",
              "      <th>10</th>\n",
              "      <td>good phone. The only drawback is the size of t...</td>\n",
              "      <td>NaN</td>\n",
              "    </tr>\n",
              "    <tr>\n",
              "      <th>11</th>\n",
              "      <td>very nice working phone no problem</td>\n",
              "      <td>NaN</td>\n",
              "    </tr>\n",
              "    <tr>\n",
              "      <th>12</th>\n",
              "      <td>Satisfied with the purchase</td>\n",
              "      <td>NaN</td>\n",
              "    </tr>\n",
              "    <tr>\n",
              "      <th>13</th>\n",
              "      <td>Nice</td>\n",
              "      <td>NaN</td>\n",
              "    </tr>\n",
              "    <tr>\n",
              "      <th>14</th>\n",
              "      <td>The touch is seamless. Functionalities are great.</td>\n",
              "      <td>NaN</td>\n",
              "    </tr>\n",
              "  </tbody>\n",
              "</table>\n",
              "</div>"
            ],
            "text/plain": [
              "                                              Reviews  Rating\n",
              "0   This is the best phone I've ever used. The cam...     NaN\n",
              "1   Worth it's price. Better than the previous gen...     NaN\n",
              "2                  Great value for money. Good phone.     NaN\n",
              "3   Worst phone. I did not like the phone. Google ...     NaN\n",
              "4   Compared to Pixel XL seems to be good. The bat...     NaN\n",
              "5                                    Not a good phone     NaN\n",
              "6   Worst phone. Poor batery performance. The phon...     NaN\n",
              "7                                   not good. Not bad     NaN\n",
              "8                                         worst phone     NaN\n",
              "9   I like it. Has been one week since I bought it...     NaN\n",
              "10  good phone. The only drawback is the size of t...     NaN\n",
              "11                 very nice working phone no problem     NaN\n",
              "12                        Satisfied with the purchase     NaN\n",
              "13                                               Nice     NaN\n",
              "14  The touch is seamless. Functionalities are great.     NaN"
            ]
          },
          "metadata": {
            "tags": []
          },
          "execution_count": 10
        }
      ]
    },
    {
      "cell_type": "code",
      "metadata": {
        "id": "Y2sPaDaN0dMI",
        "colab_type": "code",
        "colab": {}
      },
      "source": [
        "#Taking only the necessary columns for train data\n",
        "X = data_df_train['Reviews']\n",
        "y = data_df_train['Rating']"
      ],
      "execution_count": 0,
      "outputs": []
    },
    {
      "cell_type": "code",
      "metadata": {
        "id": "gPnXuRHHZHm8",
        "colab_type": "code",
        "colab": {}
      },
      "source": [
        "# Split the dataset into training and validation datasets \n",
        "\n",
        "train_x, valid_x, train_y, valid_y = model_selection.train_test_split(X, y, test_size=0.3, random_state=42)\n",
        "\n",
        "#Test data\n",
        "test_x = test['Reviews']\n",
        "test_y = test['Rating']\n",
        "\n",
        "# Label encode the target variable \n",
        "encoder = preprocessing.LabelEncoder()\n",
        "train_y = encoder.fit_transform(train_y)\n",
        "valid_y = encoder.fit_transform(valid_y)\n",
        "test_y = encoder.fit_transform(test_y)"
      ],
      "execution_count": 0,
      "outputs": []
    },
    {
      "cell_type": "markdown",
      "metadata": {
        "id": "0fIyw1Z1ITFT",
        "colab_type": "text"
      },
      "source": [
        "# ***2. Feature Engineering***"
      ]
    },
    {
      "cell_type": "markdown",
      "metadata": {
        "id": "F3rCqgofg5KE",
        "colab_type": "text"
      },
      "source": [
        "***2.1 Count Vectors as Features***"
      ]
    },
    {
      "cell_type": "code",
      "metadata": {
        "id": "V0YizHUHZCMA",
        "colab_type": "code",
        "colab": {}
      },
      "source": [
        "# create a count vectorizer object \n",
        "\n",
        "count_vect = CountVectorizer(analyzer='word', token_pattern=r'\\w{1,}')\n",
        "ctrain = count_vect.fit(train_x)\n",
        "\n",
        "# transform the training and validation data using count vectorizer object\n",
        "\n",
        "xtrain_count =  count_vect.transform(train_x)\n",
        "xvalid_count =  count_vect.transform(valid_x)\n",
        "xtest_count =  count_vect.transform(test_x)"
      ],
      "execution_count": 0,
      "outputs": []
    },
    {
      "cell_type": "markdown",
      "metadata": {
        "id": "lw_3gmv2hCJk",
        "colab_type": "text"
      },
      "source": [
        "***2.2 TF-IDF Vectors as features***"
      ]
    },
    {
      "cell_type": "code",
      "metadata": {
        "id": "fObg4mDGhBdM",
        "colab_type": "code",
        "colab": {}
      },
      "source": [
        "# word level tf-idf\n",
        "\n",
        "tfidf_vect = TfidfVectorizer(analyzer='word', token_pattern=r'\\w{1,}', max_features=5000)\n",
        "tfidf_vect.fit(train_x)\n",
        "xtrain_tfidf =  tfidf_vect.transform(train_x)\n",
        "xvalid_tfidf =  tfidf_vect.transform(valid_x)\n",
        "xtest_tfidf =  tfidf_vect.transform(test_x)"
      ],
      "execution_count": 0,
      "outputs": []
    },
    {
      "cell_type": "code",
      "metadata": {
        "id": "FKroFYq7hRs-",
        "colab_type": "code",
        "colab": {}
      },
      "source": [
        "# ngram level tf-idf \n",
        "\n",
        "tfidf_vect_ngram = TfidfVectorizer(analyzer='word', token_pattern=r'\\w{1,}', ngram_range=(2,3), max_features=5000)\n",
        "tfidf_vect_ngram.fit(train_x)\n",
        "xtrain_tfidf_ngram =  tfidf_vect_ngram.transform(train_x)\n",
        "xvalid_tfidf_ngram =  tfidf_vect_ngram.transform(valid_x)\n",
        "xtest_tfidf_ngram =  tfidf_vect_ngram.transform(test_x)"
      ],
      "execution_count": 0,
      "outputs": []
    },
    {
      "cell_type": "code",
      "metadata": {
        "id": "nM5XJOTMhU43",
        "colab_type": "code",
        "outputId": "ec9d5015-fc66-4c6e-a51b-35c5dfbeef7e",
        "colab": {
          "base_uri": "https://localhost:8080/",
          "height": 72
        }
      },
      "source": [
        "# characters level tf-idf\n",
        "\n",
        "tfidf_vect_ngram_chars = TfidfVectorizer(analyzer='char', token_pattern=r'\\w{1,}', ngram_range=(2,3), max_features=5000)\n",
        "tfidf_vect_ngram_chars.fit(train_x)\n",
        "xtrain_tfidf_ngram_chars =  tfidf_vect_ngram_chars.transform(train_x) \n",
        "xvalid_tfidf_ngram_chars =  tfidf_vect_ngram_chars.transform(valid_x) \n",
        "xtest_tfidf_ngram_chars =  tfidf_vect_ngram_chars.transform(test_x)"
      ],
      "execution_count": 16,
      "outputs": [
        {
          "output_type": "stream",
          "text": [
            "/usr/local/lib/python3.6/dist-packages/sklearn/feature_extraction/text.py:524: UserWarning: The parameter 'token_pattern' will not be used since 'analyzer' != 'word'\n",
            "  warnings.warn(\"The parameter 'token_pattern' will not be used\"\n"
          ],
          "name": "stderr"
        }
      ]
    },
    {
      "cell_type": "markdown",
      "metadata": {
        "id": "3KVp4FhEiDdd",
        "colab_type": "text"
      },
      "source": [
        "# ***3. Model Building*** "
      ]
    },
    {
      "cell_type": "markdown",
      "metadata": {
        "id": "tk9y5lhVpRty",
        "colab_type": "text"
      },
      "source": [
        "***3.1 Naive Bayes***"
      ]
    },
    {
      "cell_type": "code",
      "metadata": {
        "id": "qmgAcPLHo73M",
        "colab_type": "code",
        "outputId": "fabad58b-1868-41c9-8b70-1ca683fd1479",
        "colab": {
          "base_uri": "https://localhost:8080/",
          "height": 228
        }
      },
      "source": [
        "# Naive Bayes on Count Vectors\n",
        "\n",
        "random.seed(100)\n",
        "classifier = naive_bayes.MultinomialNB()\n",
        "clf = classifier.fit(xtrain_count, train_y)\n",
        "predictions = clf.predict(xvalid_count)\n",
        "predictions_test = clf.predict(xtest_count)\n",
        "classification = metrics.classification_report(predictions, valid_y)\n",
        "print(classification)"
      ],
      "execution_count": 17,
      "outputs": [
        {
          "output_type": "stream",
          "text": [
            "              precision    recall  f1-score   support\n",
            "\n",
            "           0       0.83      0.67      0.74     21303\n",
            "           1       0.17      0.58      0.26      1818\n",
            "           2       0.25      0.50      0.34      3940\n",
            "           3       0.29      0.49      0.36      8914\n",
            "           4       0.93      0.78      0.85     64303\n",
            "\n",
            "    accuracy                           0.72    100278\n",
            "   macro avg       0.49      0.60      0.51    100278\n",
            "weighted avg       0.81      0.72      0.75    100278\n",
            "\n"
          ],
          "name": "stdout"
        }
      ]
    },
    {
      "cell_type": "code",
      "metadata": {
        "id": "0InPIi7XlOFS",
        "colab_type": "code",
        "outputId": "953fed12-f374-4e74-d777-4039d0f0b24c",
        "colab": {
          "base_uri": "https://localhost:8080/",
          "height": 228
        }
      },
      "source": [
        "# Naive Bayes on Word Level TF IDF Vectors\n",
        "\n",
        "random.seed(100)\n",
        "classifier = naive_bayes.MultinomialNB()\n",
        "clf = classifier.fit(xtrain_tfidf, train_y)\n",
        "predictions = clf.predict(xvalid_tfidf)\n",
        "predictions_test = clf.predict(xtest_tfidf)\n",
        "classification = metrics.classification_report(predictions, valid_y)\n",
        "print(classification)"
      ],
      "execution_count": 18,
      "outputs": [
        {
          "output_type": "stream",
          "text": [
            "              precision    recall  f1-score   support\n",
            "\n",
            "           0       0.81      0.65      0.72     21431\n",
            "           1       0.05      0.63      0.09       450\n",
            "           2       0.09      0.49      0.15      1422\n",
            "           3       0.18      0.41      0.25      6526\n",
            "           4       0.95      0.72      0.82     70449\n",
            "\n",
            "    accuracy                           0.68    100278\n",
            "   macro avg       0.41      0.58      0.40    100278\n",
            "weighted avg       0.85      0.68      0.75    100278\n",
            "\n"
          ],
          "name": "stdout"
        }
      ]
    },
    {
      "cell_type": "code",
      "metadata": {
        "id": "Kj6ur1Z041bg",
        "colab_type": "code",
        "outputId": "c9cfca8c-5ff0-41a5-b349-1511532db580",
        "colab": {
          "base_uri": "https://localhost:8080/",
          "height": 34
        }
      },
      "source": [
        "# Predicted Ratings (Scale of 0-4)\n",
        "predictions_test"
      ],
      "execution_count": 19,
      "outputs": [
        {
          "output_type": "execute_result",
          "data": {
            "text/plain": [
              "array([4, 4, 4, 0, 4, 4, 0, 0, 0, 4, 4, 4, 4, 4, 4])"
            ]
          },
          "metadata": {
            "tags": []
          },
          "execution_count": 19
        }
      ]
    },
    {
      "cell_type": "markdown",
      "metadata": {
        "id": "aO6yTTV51UWW",
        "colab_type": "text"
      },
      "source": [
        "***Found the Naive Bayes on Ngram Level TF IDF Vectors model to be the best Naive Bayes model as the precision for all ratings are higher compared to other models.***"
      ]
    },
    {
      "cell_type": "code",
      "metadata": {
        "id": "b4E2SjyNlOUS",
        "colab_type": "code",
        "outputId": "69f153dd-fbde-4f3f-b30c-dc7332a12881",
        "colab": {
          "base_uri": "https://localhost:8080/",
          "height": 228
        }
      },
      "source": [
        "# Naive Bayes on Ngram Level TF IDF Vectors\n",
        "\n",
        "random.seed(100)\n",
        "classifier = naive_bayes.MultinomialNB()\n",
        "clf = classifier.fit(xtrain_tfidf_ngram, train_y)\n",
        "predictions = clf.predict(xvalid_tfidf_ngram)\n",
        "predictions_test = clf.predict(xtest_tfidf_ngram)\n",
        "classification = metrics.classification_report(predictions, valid_y)\n",
        "print(classification)"
      ],
      "execution_count": 20,
      "outputs": [
        {
          "output_type": "stream",
          "text": [
            "              precision    recall  f1-score   support\n",
            "\n",
            "           0       0.76      0.65      0.70     20275\n",
            "           1       0.06      0.49      0.10       681\n",
            "           2       0.15      0.44      0.22      2700\n",
            "           3       0.22      0.46      0.29      7054\n",
            "           4       0.94      0.73      0.82     69568\n",
            "\n",
            "    accuracy                           0.69    100278\n",
            "   macro avg       0.43      0.55      0.43    100278\n",
            "weighted avg       0.83      0.69      0.74    100278\n",
            "\n"
          ],
          "name": "stdout"
        }
      ]
    },
    {
      "cell_type": "code",
      "metadata": {
        "id": "Z7wt-FW8wOQR",
        "colab_type": "code",
        "outputId": "293bd9e0-15c4-4d5d-9d61-327cd79fa588",
        "colab": {
          "base_uri": "https://localhost:8080/",
          "height": 34
        }
      },
      "source": [
        "# Predicted Ratings(Scale of 0-4)\n",
        "predictions_test"
      ],
      "execution_count": 21,
      "outputs": [
        {
          "output_type": "execute_result",
          "data": {
            "text/plain": [
              "array([4, 4, 4, 0, 4, 3, 0, 2, 0, 4, 3, 4, 4, 4, 4])"
            ]
          },
          "metadata": {
            "tags": []
          },
          "execution_count": 21
        }
      ]
    },
    {
      "cell_type": "code",
      "metadata": {
        "id": "STGhWLMSanho",
        "colab_type": "code",
        "outputId": "7ec9a845-5457-458a-c0f1-e05e9ac8d5b6",
        "colab": {
          "base_uri": "https://localhost:8080/",
          "height": 34
        }
      },
      "source": [
        "# Converting the predicted ratings to a scale of 1-5\n",
        "predictions_test = [i+1 for i in predictions_test]\n",
        "predictions_test"
      ],
      "execution_count": 22,
      "outputs": [
        {
          "output_type": "execute_result",
          "data": {
            "text/plain": [
              "[5, 5, 5, 1, 5, 4, 1, 3, 1, 5, 4, 5, 5, 5, 5]"
            ]
          },
          "metadata": {
            "tags": []
          },
          "execution_count": 22
        }
      ]
    },
    {
      "cell_type": "code",
      "metadata": {
        "id": "JIOfJLZJChKN",
        "colab_type": "code",
        "outputId": "0a609cba-7fd7-43e3-916d-2c3464565ce3",
        "colab": {
          "base_uri": "https://localhost:8080/",
          "height": 491
        }
      },
      "source": [
        "# Reviews and Predicted Ratings\n",
        "test['Rating'] = predictions_test\n",
        "test"
      ],
      "execution_count": 23,
      "outputs": [
        {
          "output_type": "execute_result",
          "data": {
            "text/html": [
              "<div>\n",
              "<style scoped>\n",
              "    .dataframe tbody tr th:only-of-type {\n",
              "        vertical-align: middle;\n",
              "    }\n",
              "\n",
              "    .dataframe tbody tr th {\n",
              "        vertical-align: top;\n",
              "    }\n",
              "\n",
              "    .dataframe thead th {\n",
              "        text-align: right;\n",
              "    }\n",
              "</style>\n",
              "<table border=\"1\" class=\"dataframe\">\n",
              "  <thead>\n",
              "    <tr style=\"text-align: right;\">\n",
              "      <th></th>\n",
              "      <th>Reviews</th>\n",
              "      <th>Rating</th>\n",
              "    </tr>\n",
              "  </thead>\n",
              "  <tbody>\n",
              "    <tr>\n",
              "      <th>0</th>\n",
              "      <td>This is the best phone I've ever used. The cam...</td>\n",
              "      <td>5</td>\n",
              "    </tr>\n",
              "    <tr>\n",
              "      <th>1</th>\n",
              "      <td>Worth it's price. Better than the previous gen...</td>\n",
              "      <td>5</td>\n",
              "    </tr>\n",
              "    <tr>\n",
              "      <th>2</th>\n",
              "      <td>Great value for money. Good phone.</td>\n",
              "      <td>5</td>\n",
              "    </tr>\n",
              "    <tr>\n",
              "      <th>3</th>\n",
              "      <td>Worst phone. I did not like the phone. Google ...</td>\n",
              "      <td>1</td>\n",
              "    </tr>\n",
              "    <tr>\n",
              "      <th>4</th>\n",
              "      <td>Compared to Pixel XL seems to be good. The bat...</td>\n",
              "      <td>5</td>\n",
              "    </tr>\n",
              "    <tr>\n",
              "      <th>5</th>\n",
              "      <td>Not a good phone</td>\n",
              "      <td>4</td>\n",
              "    </tr>\n",
              "    <tr>\n",
              "      <th>6</th>\n",
              "      <td>Worst phone. Poor batery performance. The phon...</td>\n",
              "      <td>1</td>\n",
              "    </tr>\n",
              "    <tr>\n",
              "      <th>7</th>\n",
              "      <td>not good. Not bad</td>\n",
              "      <td>3</td>\n",
              "    </tr>\n",
              "    <tr>\n",
              "      <th>8</th>\n",
              "      <td>worst phone</td>\n",
              "      <td>1</td>\n",
              "    </tr>\n",
              "    <tr>\n",
              "      <th>9</th>\n",
              "      <td>I like it. Has been one week since I bought it...</td>\n",
              "      <td>5</td>\n",
              "    </tr>\n",
              "    <tr>\n",
              "      <th>10</th>\n",
              "      <td>good phone. The only drawback is the size of t...</td>\n",
              "      <td>4</td>\n",
              "    </tr>\n",
              "    <tr>\n",
              "      <th>11</th>\n",
              "      <td>very nice working phone no problem</td>\n",
              "      <td>5</td>\n",
              "    </tr>\n",
              "    <tr>\n",
              "      <th>12</th>\n",
              "      <td>Satisfied with the purchase</td>\n",
              "      <td>5</td>\n",
              "    </tr>\n",
              "    <tr>\n",
              "      <th>13</th>\n",
              "      <td>Nice</td>\n",
              "      <td>5</td>\n",
              "    </tr>\n",
              "    <tr>\n",
              "      <th>14</th>\n",
              "      <td>The touch is seamless. Functionalities are great.</td>\n",
              "      <td>5</td>\n",
              "    </tr>\n",
              "  </tbody>\n",
              "</table>\n",
              "</div>"
            ],
            "text/plain": [
              "                                              Reviews  Rating\n",
              "0   This is the best phone I've ever used. The cam...       5\n",
              "1   Worth it's price. Better than the previous gen...       5\n",
              "2                  Great value for money. Good phone.       5\n",
              "3   Worst phone. I did not like the phone. Google ...       1\n",
              "4   Compared to Pixel XL seems to be good. The bat...       5\n",
              "5                                    Not a good phone       4\n",
              "6   Worst phone. Poor batery performance. The phon...       1\n",
              "7                                   not good. Not bad       3\n",
              "8                                         worst phone       1\n",
              "9   I like it. Has been one week since I bought it...       5\n",
              "10  good phone. The only drawback is the size of t...       4\n",
              "11                 very nice working phone no problem       5\n",
              "12                        Satisfied with the purchase       5\n",
              "13                                               Nice       5\n",
              "14  The touch is seamless. Functionalities are great.       5"
            ]
          },
          "metadata": {
            "tags": []
          },
          "execution_count": 23
        }
      ]
    },
    {
      "cell_type": "code",
      "metadata": {
        "id": "UV7ZVRqlZi_4",
        "colab_type": "code",
        "colab": {}
      },
      "source": [
        "# Saving the Predicted ratings as per the format of Review table\n",
        "\n",
        "submission=pd.read_csv(\"Sample_Submission.csv\")\n",
        "submission['Rating']=predictions_test \n",
        "submission['Pd_id']=test_original['Pd_id']\n",
        "submission['User_id']=test_original['User_id']\n",
        "submission['Review_id']=test_original['Review_id']\n",
        "submission['Reviews']=test_original['Reviews']\n",
        "pd.DataFrame(submission, columns=['Pd_id','User_id','Review_id','Reviews','Rating']).to_csv('Review_new.csv')"
      ],
      "execution_count": 0,
      "outputs": []
    },
    {
      "cell_type": "code",
      "metadata": {
        "id": "4vNCdSlClOeT",
        "colab_type": "code",
        "outputId": "8ae71bf5-18a1-4eb6-e892-6649e366dd14",
        "colab": {
          "base_uri": "https://localhost:8080/",
          "height": 228
        }
      },
      "source": [
        "# Naive Bayes on Character Level TF IDF Vectors\n",
        "\n",
        "classifier = naive_bayes.MultinomialNB()\n",
        "clf = classifier.fit(xtrain_tfidf_ngram_chars, train_y)\n",
        "predictions = clf.predict(xvalid_tfidf_ngram_chars)\n",
        "predictions_test = clf.predict(xtest_tfidf_ngram_chars)\n",
        "classification = metrics.classification_report(predictions, valid_y)\n",
        "print(classification)"
      ],
      "execution_count": 26,
      "outputs": [
        {
          "output_type": "stream",
          "text": [
            "              precision    recall  f1-score   support\n",
            "\n",
            "           0       0.81      0.57      0.67     24742\n",
            "           1       0.02      0.42      0.03       225\n",
            "           2       0.10      0.35      0.16      2300\n",
            "           3       0.25      0.35      0.30     10904\n",
            "           4       0.87      0.76      0.81     62107\n",
            "\n",
            "    accuracy                           0.66    100278\n",
            "   macro avg       0.41      0.49      0.39    100278\n",
            "weighted avg       0.77      0.66      0.70    100278\n",
            "\n"
          ],
          "name": "stdout"
        }
      ]
    },
    {
      "cell_type": "code",
      "metadata": {
        "id": "b4z60j3XwPR1",
        "colab_type": "code",
        "outputId": "5d2d3813-bf6b-4df5-92a4-dbf2b0648757",
        "colab": {
          "base_uri": "https://localhost:8080/",
          "height": 34
        }
      },
      "source": [
        "# Predicted Ratings(Scale of 0-4)\n",
        "predictions_test"
      ],
      "execution_count": 27,
      "outputs": [
        {
          "output_type": "execute_result",
          "data": {
            "text/plain": [
              "array([4, 4, 4, 4, 4, 4, 4, 3, 4, 4, 3, 4, 4, 4, 4])"
            ]
          },
          "metadata": {
            "tags": []
          },
          "execution_count": 27
        }
      ]
    },
    {
      "cell_type": "markdown",
      "metadata": {
        "id": "lExJIYScpUhn",
        "colab_type": "text"
      },
      "source": [
        "***3.2 Linear Classifier***"
      ]
    },
    {
      "cell_type": "code",
      "metadata": {
        "id": "tmJSihZzpba1",
        "colab_type": "code",
        "outputId": "21b2d21d-5b8c-4314-cdde-93c6890ad913",
        "colab": {
          "base_uri": "https://localhost:8080/",
          "height": 228
        }
      },
      "source": [
        "# Linear Classifier on Count Vectors\n",
        "\n",
        "classifier = linear_model.LogisticRegression(solver='sag', max_iter = 3000)\n",
        "clf = classifier.fit(xtrain_count, train_y)\n",
        "predictions = clf.predict(xvalid_count)\n",
        "predictions_test = clf.predict(xtest_count)\n",
        "classification = metrics.classification_report(predictions, valid_y)\n",
        "print(classification)"
      ],
      "execution_count": 28,
      "outputs": [
        {
          "output_type": "stream",
          "text": [
            "              precision    recall  f1-score   support\n",
            "\n",
            "           0       0.84      0.71      0.77     20404\n",
            "           1       0.20      0.56      0.30      2236\n",
            "           2       0.28      0.52      0.37      4298\n",
            "           3       0.25      0.56      0.35      6805\n",
            "           4       0.96      0.78      0.86     66535\n",
            "\n",
            "    accuracy                           0.73    100278\n",
            "   macro avg       0.51      0.62      0.53    100278\n",
            "weighted avg       0.84      0.73      0.77    100278\n",
            "\n"
          ],
          "name": "stdout"
        }
      ]
    },
    {
      "cell_type": "code",
      "metadata": {
        "id": "7BUvUmnI5XKd",
        "colab_type": "code",
        "outputId": "65abc896-8472-44b6-e4aa-d32f1c5c3fe0",
        "colab": {
          "base_uri": "https://localhost:8080/",
          "height": 34
        }
      },
      "source": [
        "# Predicted Ratings(Scale of 0-4)\n",
        "predictions_test"
      ],
      "execution_count": 29,
      "outputs": [
        {
          "output_type": "execute_result",
          "data": {
            "text/plain": [
              "array([4, 4, 4, 0, 4, 4, 0, 0, 0, 4, 3, 4, 4, 4, 4])"
            ]
          },
          "metadata": {
            "tags": []
          },
          "execution_count": 29
        }
      ]
    },
    {
      "cell_type": "code",
      "metadata": {
        "id": "X5WHnsS9les4",
        "colab_type": "code",
        "outputId": "aced728b-005d-4640-ed6d-21b106887e13",
        "colab": {
          "base_uri": "https://localhost:8080/",
          "height": 34
        }
      },
      "source": [
        "# Linear Classifier on Word Level TF IDF Vectors\n",
        "\n",
        "classifier = linear_model.LogisticRegression(solver='sag', max_iter = 3000)\n",
        "clf = classifier.fit(xtrain_tfidf, train_y)\n",
        "predictions = clf.predict(xvalid_tfidf)\n",
        "accuracy = metrics.accuracy_score(predictions, valid_y)\n",
        "print (\"LR Validation, WordLevel TF-IDF: \", accuracy)\n",
        "predictions_test = clf.predict(xtest_tfidf)"
      ],
      "execution_count": 30,
      "outputs": [
        {
          "output_type": "stream",
          "text": [
            "LR Validation, WordLevel TF-IDF:  0.7354654061708451\n"
          ],
          "name": "stdout"
        }
      ]
    },
    {
      "cell_type": "code",
      "metadata": {
        "id": "BLGf-mf15aKN",
        "colab_type": "code",
        "outputId": "4e1f1783-f4ea-4b87-a5a2-60281c0063b2",
        "colab": {
          "base_uri": "https://localhost:8080/",
          "height": 34
        }
      },
      "source": [
        "# Predicted Ratings(Scale of 0-4)\n",
        "predictions_test"
      ],
      "execution_count": 31,
      "outputs": [
        {
          "output_type": "execute_result",
          "data": {
            "text/plain": [
              "array([4, 4, 4, 0, 3, 0, 0, 0, 0, 4, 3, 4, 4, 4, 4])"
            ]
          },
          "metadata": {
            "tags": []
          },
          "execution_count": 31
        }
      ]
    },
    {
      "cell_type": "code",
      "metadata": {
        "id": "LySf_DXulewc",
        "colab_type": "code",
        "outputId": "e2355d29-070e-42bb-884e-3b8f62332439",
        "colab": {
          "base_uri": "https://localhost:8080/",
          "height": 34
        }
      },
      "source": [
        "# Linear Classifier on Ngram Level TF IDF Vectors\n",
        "\n",
        "classifier = linear_model.LogisticRegression(solver='sag', max_iter = 3000)\n",
        "clf = classifier.fit(xtrain_tfidf_ngram, train_y)\n",
        "predictions = clf.predict(xvalid_tfidf_ngram)\n",
        "accuracy = metrics.accuracy_score(predictions, valid_y)\n",
        "print (\"LR Validation, N-Gram Vectors: \", accuracy)\n",
        "predictions_test = clf.predict(xtest_tfidf_ngram)"
      ],
      "execution_count": 32,
      "outputs": [
        {
          "output_type": "stream",
          "text": [
            "LR Validation, N-Gram Vectors:  0.7180936995153473\n"
          ],
          "name": "stdout"
        }
      ]
    },
    {
      "cell_type": "code",
      "metadata": {
        "id": "Sn6futN85bNW",
        "colab_type": "code",
        "outputId": "3470946e-865c-4f9e-f0a5-5f296e3c0f7b",
        "colab": {
          "base_uri": "https://localhost:8080/",
          "height": 34
        }
      },
      "source": [
        "# Predicted Ratings(Scale of 0-4)\n",
        "predictions_test"
      ],
      "execution_count": 33,
      "outputs": [
        {
          "output_type": "execute_result",
          "data": {
            "text/plain": [
              "array([4, 4, 4, 0, 4, 0, 0, 2, 0, 4, 3, 4, 4, 4, 4])"
            ]
          },
          "metadata": {
            "tags": []
          },
          "execution_count": 33
        }
      ]
    },
    {
      "cell_type": "code",
      "metadata": {
        "id": "Hk18VgEqljxv",
        "colab_type": "code",
        "outputId": "229184e2-8e8d-4e26-acbf-478593444ce6",
        "colab": {
          "base_uri": "https://localhost:8080/",
          "height": 34
        }
      },
      "source": [
        "# Linear Classifier on Character Level TF IDF Vectors\n",
        "\n",
        "classifier = linear_model.LogisticRegression(solver='sag', max_iter = 500)\n",
        "clf = classifier.fit(xtrain_tfidf_ngram_chars, train_y)\n",
        "predictions = clf.predict(xvalid_tfidf_ngram_chars)\n",
        "accuracy = metrics.accuracy_score(predictions, valid_y)\n",
        "print (\"LR Validation, CharLevel Vectors: \", accuracy)\n",
        "predictions_test = clf.predict(xtest_tfidf_ngram_chars)"
      ],
      "execution_count": 34,
      "outputs": [
        {
          "output_type": "stream",
          "text": [
            "LR Validation, CharLevel Vectors:  0.7296316240850436\n"
          ],
          "name": "stdout"
        }
      ]
    },
    {
      "cell_type": "code",
      "metadata": {
        "id": "q6awQasg5cGp",
        "colab_type": "code",
        "outputId": "437fd136-220d-42a1-fac1-254b23aba91d",
        "colab": {
          "base_uri": "https://localhost:8080/",
          "height": 34
        }
      },
      "source": [
        "# Predicted Ratings(Scale of 0-4)\n",
        "predictions_test"
      ],
      "execution_count": 35,
      "outputs": [
        {
          "output_type": "execute_result",
          "data": {
            "text/plain": [
              "array([4, 4, 4, 4, 3, 3, 0, 0, 0, 4, 3, 4, 4, 4, 4])"
            ]
          },
          "metadata": {
            "tags": []
          },
          "execution_count": 35
        }
      ]
    }
  ]
}